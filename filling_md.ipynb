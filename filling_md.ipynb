{
 "cells": [
  {
   "cell_type": "markdown",
   "metadata": {},
   "source": [
    "# Filling Missing Data in TimeSeries\n",
    "\n",
    "<br>\n",
    "Assume that you have a table containing only changes in a certain variable, for example Stock Position of certain or various goods in a certain period of time."
   ]
  },
  {
   "cell_type": "code",
   "execution_count": 1,
   "metadata": {},
   "outputs": [],
   "source": [
    "# Needed Libraries\n",
    "import numpy as np\n",
    "import pandas as pd"
   ]
  },
  {
   "cell_type": "code",
   "execution_count": 2,
   "metadata": {},
   "outputs": [],
   "source": [
    "#Data Visualization\n",
    "import seaborn as sns\n",
    "import matplotlib.pyplot as plt\n",
    "%matplotlib inline"
   ]
  },
  {
   "cell_type": "markdown",
   "metadata": {},
   "source": [
    "Let´s take a took on that sample creating a `DataFrame` from a csv file"
   ]
  },
  {
   "cell_type": "code",
   "execution_count": 3,
   "metadata": {},
   "outputs": [],
   "source": [
    "df = pd.read_csv(\"stock_changes_sample.csv\", sep=\";\", encoding=\"latin-1\", low_memory=False, \n",
    "                 dtype={'STORE': 'category', 'ITEM': 'category'}, parse_dates=['DATE'])"
   ]
  },
  {
   "cell_type": "code",
   "execution_count": 4,
   "metadata": {},
   "outputs": [
    {
     "name": "stdout",
     "output_type": "stream",
     "text": [
      "<class 'pandas.core.frame.DataFrame'>\n",
      "RangeIndex: 3796 entries, 0 to 3795\n",
      "Data columns (total 4 columns):\n",
      "DATE     3796 non-null datetime64[ns]\n",
      "STORE    3796 non-null category\n",
      "ITEM     3796 non-null category\n",
      "STOCK    2915 non-null float64\n",
      "dtypes: category(2), datetime64[ns](1), float64(1)\n",
      "memory usage: 82.5 KB\n"
     ]
    }
   ],
   "source": [
    "df.info()"
   ]
  },
  {
   "cell_type": "code",
   "execution_count": 5,
   "metadata": {},
   "outputs": [
    {
     "data": {
      "text/html": [
       "<div>\n",
       "<style scoped>\n",
       "    .dataframe tbody tr th:only-of-type {\n",
       "        vertical-align: middle;\n",
       "    }\n",
       "\n",
       "    .dataframe tbody tr th {\n",
       "        vertical-align: top;\n",
       "    }\n",
       "\n",
       "    .dataframe thead th {\n",
       "        text-align: right;\n",
       "    }\n",
       "</style>\n",
       "<table border=\"1\" class=\"dataframe\">\n",
       "  <thead>\n",
       "    <tr style=\"text-align: right;\">\n",
       "      <th></th>\n",
       "      <th>DATE</th>\n",
       "      <th>STORE</th>\n",
       "      <th>ITEM</th>\n",
       "      <th>STOCK</th>\n",
       "    </tr>\n",
       "  </thead>\n",
       "  <tbody>\n",
       "    <tr>\n",
       "      <th>0</th>\n",
       "      <td>2018-01-05</td>\n",
       "      <td>L998</td>\n",
       "      <td>2105710</td>\n",
       "      <td>6.0</td>\n",
       "    </tr>\n",
       "    <tr>\n",
       "      <th>1</th>\n",
       "      <td>2018-01-05</td>\n",
       "      <td>L997</td>\n",
       "      <td>2105710</td>\n",
       "      <td>12.0</td>\n",
       "    </tr>\n",
       "    <tr>\n",
       "      <th>2</th>\n",
       "      <td>2018-01-05</td>\n",
       "      <td>L995</td>\n",
       "      <td>2105710</td>\n",
       "      <td>6.0</td>\n",
       "    </tr>\n",
       "    <tr>\n",
       "      <th>3</th>\n",
       "      <td>2018-01-05</td>\n",
       "      <td>L994</td>\n",
       "      <td>2105710</td>\n",
       "      <td>12.0</td>\n",
       "    </tr>\n",
       "    <tr>\n",
       "      <th>4</th>\n",
       "      <td>2018-01-05</td>\n",
       "      <td>L993</td>\n",
       "      <td>2105710</td>\n",
       "      <td>12.0</td>\n",
       "    </tr>\n",
       "  </tbody>\n",
       "</table>\n",
       "</div>"
      ],
      "text/plain": [
       "        DATE STORE     ITEM  STOCK\n",
       "0 2018-01-05  L998  2105710    6.0\n",
       "1 2018-01-05  L997  2105710   12.0\n",
       "2 2018-01-05  L995  2105710    6.0\n",
       "3 2018-01-05  L994  2105710   12.0\n",
       "4 2018-01-05  L993  2105710   12.0"
      ]
     },
     "execution_count": 5,
     "metadata": {},
     "output_type": "execute_result"
    }
   ],
   "source": [
    "df.head()"
   ]
  },
  {
   "cell_type": "code",
   "execution_count": 6,
   "metadata": {},
   "outputs": [
    {
     "name": "stdout",
     "output_type": "stream",
     "text": [
      "Number of Itens - 10\n",
      "Number of Stores - 200\n",
      "Time period - START: 2018-01-05 | END: 2018-07-09\n"
     ]
    }
   ],
   "source": [
    "print(\"Number of Itens - \"+str(len(df.ITEM.unique())))\n",
    "print(\"Number of Stores - \"+str(len(df.STORE.unique())))\n",
    "print(\"Time period - START: \"+str(df.DATE.min()).split(\" \")[0]+\" | END: \"+str(df.DATE.max()).split(\" \")[0])"
   ]
  },
  {
   "cell_type": "markdown",
   "metadata": {},
   "source": [
    "Let´s take a look on the situation of the dataset regarding missing spots"
   ]
  },
  {
   "cell_type": "code",
   "execution_count": 7,
   "metadata": {},
   "outputs": [
    {
     "data": {
      "image/png": "[encoded data removed]",
      "text/plain": [
       "<matplotlib.figure.Figure at 0x1ff9cae1eb8>"
      ]
     },
     "metadata": {},
     "output_type": "display_data"
    }
   ],
   "source": [
    "sns.heatmap(df.isnull(), yticklabels=False, cbar=False, cmap='viridis')\n",
    "plt.show()"
   ]
  },
  {
   "cell_type": "markdown",
   "metadata": {},
   "source": [
    "Is fare to assume that all missing values correspond to zero values, so we can fill in with zeros"
   ]
  },
  {
   "cell_type": "code",
   "execution_count": 8,
   "metadata": {},
   "outputs": [],
   "source": [
    "df.STOCK.fillna(0, inplace=True )"
   ]
  },
  {
   "cell_type": "markdown",
   "metadata": {},
   "source": [
    "Now, let´s say you need to represent all days in a certain period within the limits of your original file. So we have to create a new `DataFrame` with all itens, stores and dates"
   ]
  },
  {
   "cell_type": "code",
   "execution_count": 9,
   "metadata": {},
   "outputs": [],
   "source": [
    "import itertools as it"
   ]
  },
  {
   "cell_type": "code",
   "execution_count": 10,
   "metadata": {},
   "outputs": [],
   "source": [
    "# Gathering Unique Categories\n",
    "itens = df.ITEM.unique()\n",
    "strs = df.STORE.unique()\n",
    "drg = pd.date_range(start='2018-05-01', end='2018-05-31')"
   ]
  },
  {
   "cell_type": "code",
   "execution_count": 11,
   "metadata": {},
   "outputs": [],
   "source": [
    "ndf = pd.DataFrame(data = list(it.product(drg, itens, strs)), columns=['DATE', 'ITEM', 'STORE'])"
   ]
  },
  {
   "cell_type": "markdown",
   "metadata": {},
   "source": [
    "Let´s create a auxiliar KEY column"
   ]
  },
  {
   "cell_type": "code",
   "execution_count": 12,
   "metadata": {},
   "outputs": [],
   "source": [
    "df['KEY'] = list(zip(df.ITEM, df.STORE))\n",
    "ndf['KEY'] = list(zip(ndf.ITEM, ndf.STORE))"
   ]
  },
  {
   "cell_type": "code",
   "execution_count": 13,
   "metadata": {},
   "outputs": [],
   "source": [
    "ndf['STOCK'] = np.nan"
   ]
  },
  {
   "cell_type": "code",
   "execution_count": 14,
   "metadata": {},
   "outputs": [
    {
     "data": {
      "text/html": [
       "<div>\n",
       "<style scoped>\n",
       "    .dataframe tbody tr th:only-of-type {\n",
       "        vertical-align: middle;\n",
       "    }\n",
       "\n",
       "    .dataframe tbody tr th {\n",
       "        vertical-align: top;\n",
       "    }\n",
       "\n",
       "    .dataframe thead th {\n",
       "        text-align: right;\n",
       "    }\n",
       "</style>\n",
       "<table border=\"1\" class=\"dataframe\">\n",
       "  <thead>\n",
       "    <tr style=\"text-align: right;\">\n",
       "      <th></th>\n",
       "      <th>DATE</th>\n",
       "      <th>ITEM</th>\n",
       "      <th>STORE</th>\n",
       "      <th>KEY</th>\n",
       "      <th>STOCK</th>\n",
       "    </tr>\n",
       "  </thead>\n",
       "  <tbody>\n",
       "    <tr>\n",
       "      <th>0</th>\n",
       "      <td>2018-05-01</td>\n",
       "      <td>2105710</td>\n",
       "      <td>L998</td>\n",
       "      <td>(2105710, L998)</td>\n",
       "      <td>NaN</td>\n",
       "    </tr>\n",
       "    <tr>\n",
       "      <th>1</th>\n",
       "      <td>2018-05-01</td>\n",
       "      <td>2105710</td>\n",
       "      <td>L997</td>\n",
       "      <td>(2105710, L997)</td>\n",
       "      <td>NaN</td>\n",
       "    </tr>\n",
       "    <tr>\n",
       "      <th>2</th>\n",
       "      <td>2018-05-01</td>\n",
       "      <td>2105710</td>\n",
       "      <td>L995</td>\n",
       "      <td>(2105710, L995)</td>\n",
       "      <td>NaN</td>\n",
       "    </tr>\n",
       "    <tr>\n",
       "      <th>3</th>\n",
       "      <td>2018-05-01</td>\n",
       "      <td>2105710</td>\n",
       "      <td>L994</td>\n",
       "      <td>(2105710, L994)</td>\n",
       "      <td>NaN</td>\n",
       "    </tr>\n",
       "    <tr>\n",
       "      <th>4</th>\n",
       "      <td>2018-05-01</td>\n",
       "      <td>2105710</td>\n",
       "      <td>L993</td>\n",
       "      <td>(2105710, L993)</td>\n",
       "      <td>NaN</td>\n",
       "    </tr>\n",
       "  </tbody>\n",
       "</table>\n",
       "</div>"
      ],
      "text/plain": [
       "        DATE     ITEM STORE              KEY  STOCK\n",
       "0 2018-05-01  2105710  L998  (2105710, L998)    NaN\n",
       "1 2018-05-01  2105710  L997  (2105710, L997)    NaN\n",
       "2 2018-05-01  2105710  L995  (2105710, L995)    NaN\n",
       "3 2018-05-01  2105710  L994  (2105710, L994)    NaN\n",
       "4 2018-05-01  2105710  L993  (2105710, L993)    NaN"
      ]
     },
     "execution_count": 14,
     "metadata": {},
     "output_type": "execute_result"
    }
   ],
   "source": [
    "ndf.head()"
   ]
  },
  {
   "cell_type": "markdown",
   "metadata": {},
   "source": [
    "Now, the tricky part! lets create a groupby object and iterate over that group to fill in the STOCK values and measure the time taken to do that"
   ]
  },
  {
   "cell_type": "code",
   "execution_count": 15,
   "metadata": {},
   "outputs": [],
   "source": [
    "import time as tm"
   ]
  },
  {
   "cell_type": "code",
   "execution_count": 16,
   "metadata": {},
   "outputs": [],
   "source": [
    "ggr = df.groupby(['KEY'])"
   ]
  },
  {
   "cell_type": "code",
   "execution_count": 17,
   "metadata": {},
   "outputs": [
    {
     "name": "stdout",
     "output_type": "stream",
     "text": [
      "Total time: 31.31  |  Nº of Iterations: 1293\n"
     ]
    }
   ],
   "source": [
    "counter = 0\n",
    "fst = tm.time() # Starting time point\n",
    "\n",
    "for name, group in ggr:\n",
    "    \n",
    "    aux = group.copy()\n",
    "    for date in aux.DATE:\n",
    "        \n",
    "        ndf['STOCK'] = np.where((ndf.KEY == name) & (ndf.DATE > date), \n",
    "                                aux[aux.DATE == date].STOCK.iloc[0], \n",
    "                                ndf.STOCK)\n",
    "    \n",
    "    counter += 1\n",
    "\n",
    "lst = tm.time() # End time point\n",
    "\n",
    "print(\"Total time: \"+str(np.round(lst-fst,2))+\"  |  Nº of Iterations: \"+str(counter))"
   ]
  },
  {
   "cell_type": "markdown",
   "metadata": {},
   "source": [
    "Let´s check one item in one store to see the result:"
   ]
  },
  {
   "cell_type": "code",
   "execution_count": 18,
   "metadata": {},
   "outputs": [
    {
     "data": {
      "text/html": [
       "<div>\n",
       "<style scoped>\n",
       "    .dataframe tbody tr th:only-of-type {\n",
       "        vertical-align: middle;\n",
       "    }\n",
       "\n",
       "    .dataframe tbody tr th {\n",
       "        vertical-align: top;\n",
       "    }\n",
       "\n",
       "    .dataframe thead th {\n",
       "        text-align: right;\n",
       "    }\n",
       "</style>\n",
       "<table border=\"1\" class=\"dataframe\">\n",
       "  <thead>\n",
       "    <tr style=\"text-align: right;\">\n",
       "      <th></th>\n",
       "      <th>DATE</th>\n",
       "      <th>ITEM</th>\n",
       "      <th>STORE</th>\n",
       "      <th>KEY</th>\n",
       "      <th>STOCK</th>\n",
       "    </tr>\n",
       "  </thead>\n",
       "  <tbody>\n",
       "    <tr>\n",
       "      <th>78</th>\n",
       "      <td>2018-05-01</td>\n",
       "      <td>2105710</td>\n",
       "      <td>1222</td>\n",
       "      <td>(2105710, 1222)</td>\n",
       "      <td>6.0</td>\n",
       "    </tr>\n",
       "    <tr>\n",
       "      <th>2078</th>\n",
       "      <td>2018-05-02</td>\n",
       "      <td>2105710</td>\n",
       "      <td>1222</td>\n",
       "      <td>(2105710, 1222)</td>\n",
       "      <td>6.0</td>\n",
       "    </tr>\n",
       "    <tr>\n",
       "      <th>4078</th>\n",
       "      <td>2018-05-03</td>\n",
       "      <td>2105710</td>\n",
       "      <td>1222</td>\n",
       "      <td>(2105710, 1222)</td>\n",
       "      <td>6.0</td>\n",
       "    </tr>\n",
       "    <tr>\n",
       "      <th>6078</th>\n",
       "      <td>2018-05-04</td>\n",
       "      <td>2105710</td>\n",
       "      <td>1222</td>\n",
       "      <td>(2105710, 1222)</td>\n",
       "      <td>6.0</td>\n",
       "    </tr>\n",
       "    <tr>\n",
       "      <th>8078</th>\n",
       "      <td>2018-05-05</td>\n",
       "      <td>2105710</td>\n",
       "      <td>1222</td>\n",
       "      <td>(2105710, 1222)</td>\n",
       "      <td>6.0</td>\n",
       "    </tr>\n",
       "    <tr>\n",
       "      <th>10078</th>\n",
       "      <td>2018-05-06</td>\n",
       "      <td>2105710</td>\n",
       "      <td>1222</td>\n",
       "      <td>(2105710, 1222)</td>\n",
       "      <td>6.0</td>\n",
       "    </tr>\n",
       "    <tr>\n",
       "      <th>12078</th>\n",
       "      <td>2018-05-07</td>\n",
       "      <td>2105710</td>\n",
       "      <td>1222</td>\n",
       "      <td>(2105710, 1222)</td>\n",
       "      <td>6.0</td>\n",
       "    </tr>\n",
       "    <tr>\n",
       "      <th>14078</th>\n",
       "      <td>2018-05-08</td>\n",
       "      <td>2105710</td>\n",
       "      <td>1222</td>\n",
       "      <td>(2105710, 1222)</td>\n",
       "      <td>6.0</td>\n",
       "    </tr>\n",
       "    <tr>\n",
       "      <th>16078</th>\n",
       "      <td>2018-05-09</td>\n",
       "      <td>2105710</td>\n",
       "      <td>1222</td>\n",
       "      <td>(2105710, 1222)</td>\n",
       "      <td>6.0</td>\n",
       "    </tr>\n",
       "    <tr>\n",
       "      <th>18078</th>\n",
       "      <td>2018-05-10</td>\n",
       "      <td>2105710</td>\n",
       "      <td>1222</td>\n",
       "      <td>(2105710, 1222)</td>\n",
       "      <td>6.0</td>\n",
       "    </tr>\n",
       "    <tr>\n",
       "      <th>20078</th>\n",
       "      <td>2018-05-11</td>\n",
       "      <td>2105710</td>\n",
       "      <td>1222</td>\n",
       "      <td>(2105710, 1222)</td>\n",
       "      <td>6.0</td>\n",
       "    </tr>\n",
       "    <tr>\n",
       "      <th>22078</th>\n",
       "      <td>2018-05-12</td>\n",
       "      <td>2105710</td>\n",
       "      <td>1222</td>\n",
       "      <td>(2105710, 1222)</td>\n",
       "      <td>6.0</td>\n",
       "    </tr>\n",
       "    <tr>\n",
       "      <th>24078</th>\n",
       "      <td>2018-05-13</td>\n",
       "      <td>2105710</td>\n",
       "      <td>1222</td>\n",
       "      <td>(2105710, 1222)</td>\n",
       "      <td>6.0</td>\n",
       "    </tr>\n",
       "    <tr>\n",
       "      <th>26078</th>\n",
       "      <td>2018-05-14</td>\n",
       "      <td>2105710</td>\n",
       "      <td>1222</td>\n",
       "      <td>(2105710, 1222)</td>\n",
       "      <td>6.0</td>\n",
       "    </tr>\n",
       "    <tr>\n",
       "      <th>28078</th>\n",
       "      <td>2018-05-15</td>\n",
       "      <td>2105710</td>\n",
       "      <td>1222</td>\n",
       "      <td>(2105710, 1222)</td>\n",
       "      <td>84.0</td>\n",
       "    </tr>\n",
       "    <tr>\n",
       "      <th>30078</th>\n",
       "      <td>2018-05-16</td>\n",
       "      <td>2105710</td>\n",
       "      <td>1222</td>\n",
       "      <td>(2105710, 1222)</td>\n",
       "      <td>84.0</td>\n",
       "    </tr>\n",
       "    <tr>\n",
       "      <th>32078</th>\n",
       "      <td>2018-05-17</td>\n",
       "      <td>2105710</td>\n",
       "      <td>1222</td>\n",
       "      <td>(2105710, 1222)</td>\n",
       "      <td>84.0</td>\n",
       "    </tr>\n",
       "    <tr>\n",
       "      <th>34078</th>\n",
       "      <td>2018-05-18</td>\n",
       "      <td>2105710</td>\n",
       "      <td>1222</td>\n",
       "      <td>(2105710, 1222)</td>\n",
       "      <td>84.0</td>\n",
       "    </tr>\n",
       "    <tr>\n",
       "      <th>36078</th>\n",
       "      <td>2018-05-19</td>\n",
       "      <td>2105710</td>\n",
       "      <td>1222</td>\n",
       "      <td>(2105710, 1222)</td>\n",
       "      <td>84.0</td>\n",
       "    </tr>\n",
       "    <tr>\n",
       "      <th>38078</th>\n",
       "      <td>2018-05-20</td>\n",
       "      <td>2105710</td>\n",
       "      <td>1222</td>\n",
       "      <td>(2105710, 1222)</td>\n",
       "      <td>84.0</td>\n",
       "    </tr>\n",
       "    <tr>\n",
       "      <th>40078</th>\n",
       "      <td>2018-05-21</td>\n",
       "      <td>2105710</td>\n",
       "      <td>1222</td>\n",
       "      <td>(2105710, 1222)</td>\n",
       "      <td>84.0</td>\n",
       "    </tr>\n",
       "    <tr>\n",
       "      <th>42078</th>\n",
       "      <td>2018-05-22</td>\n",
       "      <td>2105710</td>\n",
       "      <td>1222</td>\n",
       "      <td>(2105710, 1222)</td>\n",
       "      <td>84.0</td>\n",
       "    </tr>\n",
       "    <tr>\n",
       "      <th>44078</th>\n",
       "      <td>2018-05-23</td>\n",
       "      <td>2105710</td>\n",
       "      <td>1222</td>\n",
       "      <td>(2105710, 1222)</td>\n",
       "      <td>84.0</td>\n",
       "    </tr>\n",
       "    <tr>\n",
       "      <th>46078</th>\n",
       "      <td>2018-05-24</td>\n",
       "      <td>2105710</td>\n",
       "      <td>1222</td>\n",
       "      <td>(2105710, 1222)</td>\n",
       "      <td>84.0</td>\n",
       "    </tr>\n",
       "    <tr>\n",
       "      <th>48078</th>\n",
       "      <td>2018-05-25</td>\n",
       "      <td>2105710</td>\n",
       "      <td>1222</td>\n",
       "      <td>(2105710, 1222)</td>\n",
       "      <td>84.0</td>\n",
       "    </tr>\n",
       "    <tr>\n",
       "      <th>50078</th>\n",
       "      <td>2018-05-26</td>\n",
       "      <td>2105710</td>\n",
       "      <td>1222</td>\n",
       "      <td>(2105710, 1222)</td>\n",
       "      <td>84.0</td>\n",
       "    </tr>\n",
       "    <tr>\n",
       "      <th>52078</th>\n",
       "      <td>2018-05-27</td>\n",
       "      <td>2105710</td>\n",
       "      <td>1222</td>\n",
       "      <td>(2105710, 1222)</td>\n",
       "      <td>84.0</td>\n",
       "    </tr>\n",
       "    <tr>\n",
       "      <th>54078</th>\n",
       "      <td>2018-05-28</td>\n",
       "      <td>2105710</td>\n",
       "      <td>1222</td>\n",
       "      <td>(2105710, 1222)</td>\n",
       "      <td>84.0</td>\n",
       "    </tr>\n",
       "    <tr>\n",
       "      <th>56078</th>\n",
       "      <td>2018-05-29</td>\n",
       "      <td>2105710</td>\n",
       "      <td>1222</td>\n",
       "      <td>(2105710, 1222)</td>\n",
       "      <td>84.0</td>\n",
       "    </tr>\n",
       "    <tr>\n",
       "      <th>58078</th>\n",
       "      <td>2018-05-30</td>\n",
       "      <td>2105710</td>\n",
       "      <td>1222</td>\n",
       "      <td>(2105710, 1222)</td>\n",
       "      <td>84.0</td>\n",
       "    </tr>\n",
       "    <tr>\n",
       "      <th>60078</th>\n",
       "      <td>2018-05-31</td>\n",
       "      <td>2105710</td>\n",
       "      <td>1222</td>\n",
       "      <td>(2105710, 1222)</td>\n",
       "      <td>84.0</td>\n",
       "    </tr>\n",
       "  </tbody>\n",
       "</table>\n",
       "</div>"
      ],
      "text/plain": [
       "            DATE     ITEM STORE              KEY  STOCK\n",
       "78    2018-05-01  2105710  1222  (2105710, 1222)    6.0\n",
       "2078  2018-05-02  2105710  1222  (2105710, 1222)    6.0\n",
       "4078  2018-05-03  2105710  1222  (2105710, 1222)    6.0\n",
       "6078  2018-05-04  2105710  1222  (2105710, 1222)    6.0\n",
       "8078  2018-05-05  2105710  1222  (2105710, 1222)    6.0\n",
       "10078 2018-05-06  2105710  1222  (2105710, 1222)    6.0\n",
       "12078 2018-05-07  2105710  1222  (2105710, 1222)    6.0\n",
       "14078 2018-05-08  2105710  1222  (2105710, 1222)    6.0\n",
       "16078 2018-05-09  2105710  1222  (2105710, 1222)    6.0\n",
       "18078 2018-05-10  2105710  1222  (2105710, 1222)    6.0\n",
       "20078 2018-05-11  2105710  1222  (2105710, 1222)    6.0\n",
       "22078 2018-05-12  2105710  1222  (2105710, 1222)    6.0\n",
       "24078 2018-05-13  2105710  1222  (2105710, 1222)    6.0\n",
       "26078 2018-05-14  2105710  1222  (2105710, 1222)    6.0\n",
       "28078 2018-05-15  2105710  1222  (2105710, 1222)   84.0\n",
       "30078 2018-05-16  2105710  1222  (2105710, 1222)   84.0\n",
       "32078 2018-05-17  2105710  1222  (2105710, 1222)   84.0\n",
       "34078 2018-05-18  2105710  1222  (2105710, 1222)   84.0\n",
       "36078 2018-05-19  2105710  1222  (2105710, 1222)   84.0\n",
       "38078 2018-05-20  2105710  1222  (2105710, 1222)   84.0\n",
       "40078 2018-05-21  2105710  1222  (2105710, 1222)   84.0\n",
       "42078 2018-05-22  2105710  1222  (2105710, 1222)   84.0\n",
       "44078 2018-05-23  2105710  1222  (2105710, 1222)   84.0\n",
       "46078 2018-05-24  2105710  1222  (2105710, 1222)   84.0\n",
       "48078 2018-05-25  2105710  1222  (2105710, 1222)   84.0\n",
       "50078 2018-05-26  2105710  1222  (2105710, 1222)   84.0\n",
       "52078 2018-05-27  2105710  1222  (2105710, 1222)   84.0\n",
       "54078 2018-05-28  2105710  1222  (2105710, 1222)   84.0\n",
       "56078 2018-05-29  2105710  1222  (2105710, 1222)   84.0\n",
       "58078 2018-05-30  2105710  1222  (2105710, 1222)   84.0\n",
       "60078 2018-05-31  2105710  1222  (2105710, 1222)   84.0"
      ]
     },
     "execution_count": 18,
     "metadata": {},
     "output_type": "execute_result"
    }
   ],
   "source": [
    "ndf[(ndf.ITEM == '2105710') & (ndf.STORE == '1222')]"
   ]
  }
 ],
 "metadata": {
  "kernelspec": {
   "display_name": "Python 3",
   "language": "python",
   "name": "python3"
  },
  "language_info": {
   "codemirror_mode": {
    "name": "ipython",
    "version": 3
   },
   "file_extension": ".py",
   "mimetype": "text/x-python",
   "name": "python",
   "nbconvert_exporter": "python",
   "pygments_lexer": "ipython3",
   "version": "3.6.4"
  }
 },
 "nbformat": 4,
 "nbformat_minor": 2
}
